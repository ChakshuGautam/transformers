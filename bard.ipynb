{
  "nbformat": 4,
  "nbformat_minor": 0,
  "metadata": {
    "colab": {
      "provenance": [],
      "toc_visible": true,
      "include_colab_link": true
    },
    "kernelspec": {
      "name": "python3",
      "display_name": "Python 3"
    },
    "language_info": {
      "name": "python"
    }
  },
  "cells": [
    {
      "cell_type": "markdown",
      "metadata": {
        "id": "view-in-github",
        "colab_type": "text"
      },
      "source": [
        "<a href=\"https://colab.research.google.com/github/ChakshuGautam/transformers/blob/main/bard.ipynb\" target=\"_parent\"><img src=\"https://colab.research.google.com/assets/colab-badge.svg\" alt=\"Open In Colab\"/></a>"
      ]
    },
    {
      "cell_type": "markdown",
      "source": [
        "# Welcome to Python Package BardAPI tutorial"
      ],
      "metadata": {
        "id": "gU9J5HUp7PfW"
      }
    },
    {
      "cell_type": "markdown",
      "source": [
        "## Install"
      ],
      "metadata": {
        "id": "nxhT0jzT7SAA"
      }
    },
    {
      "cell_type": "code",
      "source": [
        "!pip install bardapi>=0.1.8"
      ],
      "metadata": {
        "id": "pXMmgTjyR39B"
      },
      "execution_count": 1,
      "outputs": []
    },
    {
      "cell_type": "markdown",
      "source": [
        "## Using `token` argument."
      ],
      "metadata": {
        "id": "rBSv-wvdkPdy"
      }
    },
    {
      "cell_type": "code",
      "source": [
        "from getpass import getpass\n",
        "token = getpass('Enter BARD token here')"
      ],
      "metadata": {
        "id": "FfLGv6mLS15y",
        "outputId": "1eb3b3a2-178f-49bb-9c80-5106a46f5310",
        "colab": {
          "base_uri": "https://localhost:8080/"
        }
      },
      "execution_count": 2,
      "outputs": [
        {
          "name": "stdout",
          "output_type": "stream",
          "text": [
            "Enter BARD token here··········\n"
          ]
        }
      ]
    },
    {
      "cell_type": "code",
      "source": [
        "# 01.simple usage\n",
        "from bardapi import Bard\n",
        "import os\n",
        "\n",
        "answer = Bard(token=token).get_answer(\"How can I reach the president of India?\")['content']\n",
        "print(answer)"
      ],
      "metadata": {
        "id": "AtX5KghQkMLX",
        "outputId": "a28d4218-cb4a-4dca-c29b-a012cda70b8c",
        "colab": {
          "base_uri": "https://localhost:8080/",
          "height": 383
        }
      },
      "execution_count": 1,
      "outputs": [
        {
          "output_type": "error",
          "ename": "ModuleNotFoundError",
          "evalue": "ignored",
          "traceback": [
            "\u001b[0;31m---------------------------------------------------------------------------\u001b[0m",
            "\u001b[0;31mModuleNotFoundError\u001b[0m                       Traceback (most recent call last)",
            "\u001b[0;32m<ipython-input-1-7c3aba6346dd>\u001b[0m in \u001b[0;36m<cell line: 2>\u001b[0;34m()\u001b[0m\n\u001b[1;32m      1\u001b[0m \u001b[0;31m# 01.simple usage\u001b[0m\u001b[0;34m\u001b[0m\u001b[0;34m\u001b[0m\u001b[0m\n\u001b[0;32m----> 2\u001b[0;31m \u001b[0;32mfrom\u001b[0m \u001b[0mbardapi\u001b[0m \u001b[0;32mimport\u001b[0m \u001b[0mBard\u001b[0m\u001b[0;34m\u001b[0m\u001b[0;34m\u001b[0m\u001b[0m\n\u001b[0m\u001b[1;32m      3\u001b[0m \u001b[0;32mimport\u001b[0m \u001b[0mos\u001b[0m\u001b[0;34m\u001b[0m\u001b[0;34m\u001b[0m\u001b[0m\n\u001b[1;32m      4\u001b[0m \u001b[0;34m\u001b[0m\u001b[0m\n\u001b[1;32m      5\u001b[0m \u001b[0manswer\u001b[0m \u001b[0;34m=\u001b[0m \u001b[0mBard\u001b[0m\u001b[0;34m(\u001b[0m\u001b[0mtoken\u001b[0m\u001b[0;34m=\u001b[0m\u001b[0mtoken\u001b[0m\u001b[0;34m)\u001b[0m\u001b[0;34m.\u001b[0m\u001b[0mget_answer\u001b[0m\u001b[0;34m(\u001b[0m\u001b[0;34m\"How can I reach the president of India?\"\u001b[0m\u001b[0;34m)\u001b[0m\u001b[0;34m[\u001b[0m\u001b[0;34m'content'\u001b[0m\u001b[0;34m]\u001b[0m\u001b[0;34m\u001b[0m\u001b[0;34m\u001b[0m\u001b[0m\n",
            "\u001b[0;31mModuleNotFoundError\u001b[0m: No module named 'bardapi'",
            "",
            "\u001b[0;31m---------------------------------------------------------------------------\u001b[0;32m\nNOTE: If your import is failing due to a missing package, you can\nmanually install dependencies using either !pip or !apt.\n\nTo view examples of installing some common dependencies, click the\n\"Open Examples\" button below.\n\u001b[0;31m---------------------------------------------------------------------------\u001b[0m\n"
          ],
          "errorDetails": {
            "actions": [
              {
                "action": "open_url",
                "actionText": "Open Examples",
                "url": "/notebooks/snippets/importing_libraries.ipynb"
              }
            ]
          }
        }
      ]
    },
    {
      "cell_type": "code",
      "source": [
        "# 02.with timeout variable\n",
        "from bardapi import Bard\n",
        "import os\n",
        "\n",
        "Bard(token, timeout=10).get_answer(\"How can I reach the president of India?\")['content']"
      ],
      "metadata": {
        "id": "ovKpGvg_kVi4"
      },
      "execution_count": null,
      "outputs": []
    },
    {
      "cell_type": "code",
      "source": [
        "# 03. usage\n",
        "import bardapi\n",
        "import os\n",
        "\n",
        "# set your input text\n",
        "input_text = \"How can I reach the president of India?\"\n",
        "\n",
        "# Send an API request and get a response.\n",
        "response = bardapi.core.Bard(token).get_answer(input_text)"
      ],
      "metadata": {
        "id": "ydgsw1pKkYYp"
      },
      "execution_count": null,
      "outputs": []
    },
    {
      "cell_type": "code",
      "source": [
        "# 04. session object as argument\n",
        "from bardapi import Bard\n",
        "import os\n",
        "import requests\n",
        "\n",
        "token='xxxxxxxxxx'\n",
        "session = requests.Session()\n",
        "session.headers = {\n",
        "            \"Host\": \"bard.google.com\",\n",
        "            \"X-Same-Domain\": \"1\",\n",
        "            \"User-Agent\": \"Mozilla/5.0 (Windows NT 10.0; WOW64) AppleWebKit/537.36 (KHTML, like Gecko) Chrome/91.0.4472.114 Safari/537.36\",\n",
        "            \"Content-Type\": \"application/x-www-form-urlencoded;charset=UTF-8\",\n",
        "            \"Origin\": \"https://bard.google.com\",\n",
        "            \"Referer\": \"https://bard.google.com/\",\n",
        "        }\n",
        "session.cookies.set(\"__Secure-1PSID\", token)\n",
        "\n",
        "bard = Bard(token=token, session=session)\n",
        "bard.get_answer(\"How can I reach the president of India?\")['content']"
      ],
      "metadata": {
        "id": "xgcMNOfHkm_B"
      },
      "execution_count": null,
      "outputs": []
    },
    {
      "cell_type": "markdown",
      "source": [
        "## Using `_BARD_API_KEY` enviroment variable."
      ],
      "metadata": {
        "id": "0GOU331bkKpA"
      }
    },
    {
      "cell_type": "code",
      "source": [
        "# 01.simple usage\n",
        "\n",
        "from bardapi import Bard\n",
        "import os\n",
        "\n",
        "os.environ['_BARD_API_KEY']=token\n",
        "\n",
        "Bard().get_answer(\"How can I reach the president of India?\")['content']"
      ],
      "metadata": {
        "id": "NgiVCQK0Z_2P"
      },
      "execution_count": null,
      "outputs": []
    },
    {
      "cell_type": "code",
      "source": [
        "Bard().get_answer(\"How can I reach the president of India?\")['content']"
      ],
      "metadata": {
        "id": "ENZceZbXot2b"
      },
      "execution_count": null,
      "outputs": []
    },
    {
      "cell_type": "code",
      "source": [
        "# 02.with timeout variable\n",
        "\n",
        "from bardapi import Bard\n",
        "import os\n",
        "\n",
        "os.environ['_BARD_API_KEY']=token\n",
        "\n",
        "Bard(timeout=10).get_answer(\"How can I reach the president of India?\")['content']"
      ],
      "metadata": {
        "id": "HwAB_tqwqCoh"
      },
      "execution_count": null,
      "outputs": []
    },
    {
      "cell_type": "code",
      "execution_count": null,
      "metadata": {
        "id": "KbaWnxoIRzbq"
      },
      "outputs": [],
      "source": [
        "# 03. usage\n",
        "\n",
        "import bardapi\n",
        "import os\n",
        "\n",
        "# set your __Secure-1PSID value to key\n",
        "os.environ['_BARD_API_KEY']=token\n",
        "\n",
        "# set your input text\n",
        "input_text = \"How can I reach the president of India?\"\n",
        "\n",
        "# Send an API request and get a response.\n",
        "response = bardapi.core.Bard().get_answer(input_text)"
      ]
    },
    {
      "cell_type": "code",
      "source": [
        "response"
      ],
      "metadata": {
        "id": "RibyQTozSFUF"
      },
      "execution_count": null,
      "outputs": []
    },
    {
      "cell_type": "code",
      "source": [
        "# 04. session object as argument\n",
        "\n",
        "from bardapi import Bard\n",
        "import os\n",
        "import requests\n",
        "\n",
        "os.environ['_BARD_API_KEY']='xxxxxxxxxx'\n",
        "session = requests.Session()\n",
        "session.headers = {\n",
        "            \"Host\": \"bard.google.com\",\n",
        "            \"X-Same-Domain\": \"1\",\n",
        "            \"User-Agent\": \"Mozilla/5.0 (Windows NT 10.0; WOW64) AppleWebKit/537.36 (KHTML, like Gecko) Chrome/91.0.4472.114 Safari/537.36\",\n",
        "            \"Content-Type\": \"application/x-www-form-urlencoded;charset=UTF-8\",\n",
        "            \"Origin\": \"https://bard.google.com\",\n",
        "            \"Referer\": \"https://bard.google.com/\",\n",
        "        }\n",
        "session.cookies.set(\"__Secure-1PSID\", os.environ[\"_BARD_API_KEY\"])\n",
        "\n",
        "bard = Bard(session=session)\n",
        "bard.get_answer(\"How can I reach the president of India?\")['content']"
      ],
      "metadata": {
        "id": "f_iH0oqtptQ6"
      },
      "execution_count": null,
      "outputs": []
    }
  ]
}