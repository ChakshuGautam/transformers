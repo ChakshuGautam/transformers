{
  "nbformat": 4,
  "nbformat_minor": 0,
  "metadata": {
    "colab": {
      "provenance": [],
      "toc_visible": true,
      "include_colab_link": true
    },
    "kernelspec": {
      "name": "python3",
      "display_name": "Python 3"
    },
    "language_info": {
      "name": "python"
    }
  },
  "cells": [
    {
      "cell_type": "markdown",
      "metadata": {
        "id": "view-in-github",
        "colab_type": "text"
      },
      "source": [
        "<a href=\"https://colab.research.google.com/github/ChakshuGautam/transformers/blob/main/bard.ipynb\" target=\"_parent\"><img src=\"https://colab.research.google.com/assets/colab-badge.svg\" alt=\"Open In Colab\"/></a>"
      ]
    },
    {
      "cell_type": "markdown",
      "source": [
        "# Welcome to Python Package BardAPI tutorial"
      ],
      "metadata": {
        "id": "gU9J5HUp7PfW"
      }
    },
    {
      "cell_type": "markdown",
      "source": [
        "## Install"
      ],
      "metadata": {
        "id": "nxhT0jzT7SAA"
      }
    },
    {
      "cell_type": "code",
      "source": [
        "!pip install bardapi>=0.1.8"
      ],
      "metadata": {
        "id": "pXMmgTjyR39B"
      },
      "execution_count": null,
      "outputs": []
    },
    {
      "cell_type": "markdown",
      "source": [
        "## Using `token` argument."
      ],
      "metadata": {
        "id": "rBSv-wvdkPdy"
      }
    },
    {
      "cell_type": "code",
      "source": [
        "# 01.simple usage\n",
        "from bardapi import Bard\n",
        "import os\n",
        "\n",
        "token='xxxxxxxxxx'\n",
        "\n",
        "Bard(token=token).get_answer(\"파이썬 패키지 ExceptNotifier에 대해서 설명해줘\")['content']"
      ],
      "metadata": {
        "id": "AtX5KghQkMLX"
      },
      "execution_count": null,
      "outputs": []
    },
    {
      "cell_type": "code",
      "source": [
        "# 02.with timeout variable\n",
        "from bardapi import Bard\n",
        "import os\n",
        "\n",
        "token='xxxxxxxxxx'\n",
        "\n",
        "Bard(token, timeout=10).get_answer(\"파이썬 패키지 ExceptNotifier에 대해서 설명해줘\")['content']"
      ],
      "metadata": {
        "id": "ovKpGvg_kVi4"
      },
      "execution_count": null,
      "outputs": []
    },
    {
      "cell_type": "code",
      "source": [
        "# 03. usage\n",
        "import bardapi\n",
        "import os\n",
        "\n",
        "# set your __Secure-1PSID value to key\n",
        "token='xxxxxxxxxx'\n",
        "\n",
        "# set your input text\n",
        "input_text = \"우리 동년배들이 좋아하는 뉴진스에 대해서 알려줘\"\n",
        "\n",
        "# Send an API request and get a response.\n",
        "response = bardapi.core.Bard(token).get_answer(input_text)"
      ],
      "metadata": {
        "id": "ydgsw1pKkYYp"
      },
      "execution_count": null,
      "outputs": []
    },
    {
      "cell_type": "code",
      "source": [
        "# 04. session object as argument\n",
        "from bardapi import Bard\n",
        "import os\n",
        "import requests\n",
        "\n",
        "token='xxxxxxxxxx'\n",
        "session = requests.Session()\n",
        "session.headers = {\n",
        "            \"Host\": \"bard.google.com\",\n",
        "            \"X-Same-Domain\": \"1\",\n",
        "            \"User-Agent\": \"Mozilla/5.0 (Windows NT 10.0; WOW64) AppleWebKit/537.36 (KHTML, like Gecko) Chrome/91.0.4472.114 Safari/537.36\",\n",
        "            \"Content-Type\": \"application/x-www-form-urlencoded;charset=UTF-8\",\n",
        "            \"Origin\": \"https://bard.google.com\",\n",
        "            \"Referer\": \"https://bard.google.com/\",\n",
        "        }\n",
        "session.cookies.set(\"__Secure-1PSID\", token)\n",
        "\n",
        "bard = Bard(token=token, session=session)\n",
        "bard.get_answer(\"나와 내 동년배들이 좋아하는 뉴진스에 대해서 알려줘\")['content']"
      ],
      "metadata": {
        "id": "xgcMNOfHkm_B"
      },
      "execution_count": null,
      "outputs": []
    },
    {
      "cell_type": "markdown",
      "source": [
        "## Using `_BARD_API_KEY` enviroment variable."
      ],
      "metadata": {
        "id": "0GOU331bkKpA"
      }
    },
    {
      "cell_type": "code",
      "source": [
        "# 01.simple usage\n",
        "\n",
        "from bardapi import Bard\n",
        "import os\n",
        "\n",
        "os.environ['_BARD_API_KEY']='xxxxxxxxxxxx'\n",
        "\n",
        "Bard().get_answer(\"파이썬 패키지 ExceptNotifier에 대해서 설명해줘\")['content']"
      ],
      "metadata": {
        "id": "NgiVCQK0Z_2P"
      },
      "execution_count": null,
      "outputs": []
    },
    {
      "cell_type": "code",
      "source": [
        "Bard().get_answer(\"파이썬 패키지 ExceptNotifier에 대해서 설명해줘\")['content']"
      ],
      "metadata": {
        "id": "ENZceZbXot2b"
      },
      "execution_count": null,
      "outputs": []
    },
    {
      "cell_type": "code",
      "source": [
        "# 02.with timeout variable\n",
        "\n",
        "from bardapi import Bard\n",
        "import os\n",
        "\n",
        "os.environ['_BARD_API_KEY']='xxxxxxxxxxxx'\n",
        "\n",
        "Bard(timeout=10).get_answer(\"파이썬 패키지 ExceptNotifier에 대해서 설명해줘\")['content']"
      ],
      "metadata": {
        "id": "HwAB_tqwqCoh"
      },
      "execution_count": null,
      "outputs": []
    },
    {
      "cell_type": "code",
      "execution_count": null,
      "metadata": {
        "id": "KbaWnxoIRzbq"
      },
      "outputs": [],
      "source": [
        "# 03. usage\n",
        "\n",
        "import bardapi\n",
        "import os\n",
        "\n",
        "# set your __Secure-1PSID value to key\n",
        "os.environ['_BARD_API_KEY']='xxxxxxxxxxxx'\n",
        "\n",
        "# set your input text\n",
        "input_text = \"우리 동년배들이 좋아하는 뉴진스에 대해서 알려줘\"\n",
        "\n",
        "# Send an API request and get a response.\n",
        "response = bardapi.core.Bard().get_answer(input_text)"
      ]
    },
    {
      "cell_type": "code",
      "source": [
        "response"
      ],
      "metadata": {
        "id": "RibyQTozSFUF"
      },
      "execution_count": null,
      "outputs": []
    },
    {
      "cell_type": "code",
      "source": [
        "# 04. session object as argument\n",
        "\n",
        "from bardapi import Bard\n",
        "import os\n",
        "import requests\n",
        "\n",
        "os.environ['_BARD_API_KEY']='xxxxxxxxxx'\n",
        "session = requests.Session()\n",
        "session.headers = {\n",
        "            \"Host\": \"bard.google.com\",\n",
        "            \"X-Same-Domain\": \"1\",\n",
        "            \"User-Agent\": \"Mozilla/5.0 (Windows NT 10.0; WOW64) AppleWebKit/537.36 (KHTML, like Gecko) Chrome/91.0.4472.114 Safari/537.36\",\n",
        "            \"Content-Type\": \"application/x-www-form-urlencoded;charset=UTF-8\",\n",
        "            \"Origin\": \"https://bard.google.com\",\n",
        "            \"Referer\": \"https://bard.google.com/\",\n",
        "        }\n",
        "session.cookies.set(\"__Secure-1PSID\", os.environ[\"_BARD_API_KEY\"])\n",
        "\n",
        "bard = Bard(session=session)\n",
        "bard.get_answer(\"나와 내 동년배들이 좋아하는 뉴진스에 대해서 알려줘\")['content']"
      ],
      "metadata": {
        "id": "f_iH0oqtptQ6"
      },
      "execution_count": null,
      "outputs": []
    }
  ]
}