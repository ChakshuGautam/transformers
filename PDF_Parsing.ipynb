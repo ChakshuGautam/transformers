{
  "nbformat": 4,
  "nbformat_minor": 0,
  "metadata": {
    "colab": {
      "provenance": [],
      "authorship_tag": "ABX9TyPuKi+YdgqFzvewlYgsa3NU",
      "include_colab_link": true
    },
    "kernelspec": {
      "name": "python3",
      "display_name": "Python 3"
    },
    "language_info": {
      "name": "python"
    }
  },
  "cells": [
    {
      "cell_type": "markdown",
      "metadata": {
        "id": "view-in-github",
        "colab_type": "text"
      },
      "source": [
        "<a href=\"https://colab.research.google.com/github/ChakshuGautam/transformers/blob/main/PDF_Parsing.ipynb\" target=\"_parent\"><img src=\"https://colab.research.google.com/assets/colab-badge.svg\" alt=\"Open In Colab\"/></a>"
      ]
    },
    {
      "cell_type": "markdown",
      "source": [
        "### Surya"
      ],
      "metadata": {
        "id": "Y5kqKSRiLN6E"
      }
    },
    {
      "cell_type": "code",
      "execution_count": 3,
      "metadata": {
        "id": "oB7XkX7EJ7WK"
      },
      "outputs": [],
      "source": [
        "%%capture\n",
        "!pip install surya-ocr"
      ]
    },
    {
      "cell_type": "code",
      "source": [
        "from PIL import Image\n",
        "from surya.ocr import run_ocr\n",
        "from surya.model.detection.model import load_model as load_det_model, load_processor as load_det_processor\n",
        "from surya.model.recognition.model import load_model as load_rec_model\n",
        "from surya.model.recognition.processor import load_processor as load_rec_processor\n",
        "\n",
        "image = Image.open(IMAGE_PATH)\n",
        "langs = [\"en\"] # Replace with your languages - optional but recommended\n",
        "det_processor, det_model = load_det_processor(), load_det_model()\n",
        "rec_model, rec_processor = load_rec_model(), load_rec_processor()\n",
        "\n",
        "predictions = run_ocr([image], [langs], det_model, det_processor, rec_model, rec_processor)"
      ],
      "metadata": {
        "id": "KGO6s1rJLX3k"
      },
      "execution_count": null,
      "outputs": []
    }
  ]
}