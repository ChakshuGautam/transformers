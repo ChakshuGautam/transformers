{
  "nbformat": 4,
  "nbformat_minor": 0,
  "metadata": {
    "colab": {
      "provenance": [],
      "authorship_tag": "ABX9TyOYo5X2q9Ehi+CGkWVtU/2E",
      "include_colab_link": true
    },
    "kernelspec": {
      "name": "python3",
      "display_name": "Python 3"
    },
    "language_info": {
      "name": "python"
    }
  },
  "cells": [
    {
      "cell_type": "markdown",
      "metadata": {
        "id": "view-in-github",
        "colab_type": "text"
      },
      "source": [
        "<a href=\"https://colab.research.google.com/github/ChakshuGautam/transformers/blob/main/farmer_chatbot.ipynb\" target=\"_parent\"><img src=\"https://colab.research.google.com/assets/colab-badge.svg\" alt=\"Open In Colab\"/></a>"
      ]
    },
    {
      "cell_type": "code",
      "execution_count": 1,
      "metadata": {
        "id": "EVf5PFc7Ee-5"
      },
      "outputs": [],
      "source": [
        "%%capture\n",
        "!pip install openai\n",
        "!pip install tiktoken\n",
        "!pip install datasets\n",
        "!pip install transformers==4.28.0\n",
        "!pip install git+https://github.com/huggingface/accelerate\n",
        "!pip install evaluate\n",
        "!pip install git+https://github.com/huggingface/huggingface_hub.git@main\n",
        "!sudo apt -qq install git-lfs\n",
        "!git config --global credential.helper store\n",
        "!pip install numpy\n",
        "!pip install accelerate\n",
        "!pip install bitsandbytes"
      ]
    }
  ]
}